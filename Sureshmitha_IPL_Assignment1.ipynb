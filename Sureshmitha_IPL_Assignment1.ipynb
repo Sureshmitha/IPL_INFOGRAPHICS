{
  "nbformat": 4,
  "nbformat_minor": 0,
  "metadata": {
    "colab": {
      "provenance": [],
      "toc_visible": true
    },
    "kernelspec": {
      "name": "python3",
      "display_name": "Python 3"
    },
    "language_info": {
      "name": "python"
    }
  },
  "cells": [
    {
      "cell_type": "code",
      "execution_count": null,
      "metadata": {
        "id": "pqyebtZ3H8Dx"
      },
      "outputs": [],
      "source": [
        "import pandas as pd"
      ]
    },
    {
      "cell_type": "code",
      "source": [
        "deliveries_data = pd.read_csv(\"/content/deliveries.csv\")\n",
        "matches_data = pd.read_csv(\"/content/matches.csv\")"
      ],
      "metadata": {
        "id": "oDj_ZRoZIzFt"
      },
      "execution_count": null,
      "outputs": []
    },
    {
      "cell_type": "code",
      "source": [
        "print(deliveries_data.columns)"
      ],
      "metadata": {
        "colab": {
          "base_uri": "https://localhost:8080/"
        },
        "id": "ASGySqA0PqTL",
        "outputId": "6ec0cc94-1d1d-4cec-b076-3edea0ee8698"
      },
      "execution_count": null,
      "outputs": [
        {
          "output_type": "stream",
          "name": "stdout",
          "text": [
            "Index(['match_id', 'inning', 'batting_team', 'bowling_team', 'over', 'ball',\n",
            "       'batter', 'bowler', 'non_striker', 'batsman_runs', 'extra_runs',\n",
            "       'total_runs', 'extras_type', 'is_wicket', 'player_dismissed',\n",
            "       'dismissal_kind', 'fielder'],\n",
            "      dtype='object')\n"
          ]
        }
      ]
    },
    {
      "cell_type": "code",
      "source": [
        "\n",
        "# Group by batsman and calculate total runs\n",
        "batsman_total_runs = deliveries_data.groupby(\"batter\")[\"batsman_runs\"].sum().reset_index()\n"
      ],
      "metadata": {
        "id": "C7ZEJ_LoPJb2"
      },
      "execution_count": null,
      "outputs": []
    },
    {
      "cell_type": "code",
      "source": [
        "#statics of the runs\n",
        "runs_stats = {\n",
        "    'Mean': deliveries_data['batsman_runs'].mean(),\n",
        "    'Median': deliveries_data['batsman_runs'].median(),\n",
        "    'Mode': deliveries_data['batsman_runs'].mode()[0]\n",
        "}\n",
        "print(\"Runs Statistics:\", runs_stats)\n"
      ],
      "metadata": {
        "colab": {
          "base_uri": "https://localhost:8080/"
        },
        "id": "CuZ19vRVSaf3",
        "outputId": "e41dbd06-a0d9-43c5-899a-6d5286816390"
      },
      "execution_count": null,
      "outputs": [
        {
          "output_type": "stream",
          "name": "stdout",
          "text": [
            "Runs Statistics: {'Mean': 1.265000766518473, 'Median': 1.0, 'Mode': 0}\n"
          ]
        }
      ]
    },
    {
      "cell_type": "code",
      "source": [
        "# Rename columns for better readability\n",
        "batsman_total_runs.columns = [\"Batsman\", \"Total Runs\"]"
      ],
      "metadata": {
        "id": "TEh2VN7cP64_"
      },
      "execution_count": null,
      "outputs": []
    },
    {
      "cell_type": "code",
      "source": [
        "# Find the batsman with the highest runs\n",
        "highest_scorer = batsman_total_runs.sort_values(by=\"Total Runs\", ascending=False).head(1)\n",
        "print(highest_scorer)"
      ],
      "metadata": {
        "colab": {
          "base_uri": "https://localhost:8080/"
        },
        "id": "6DdYFuW9P_Qy",
        "outputId": "b56b3e80-7cbb-4731-9233-169146e1d210"
      },
      "execution_count": null,
      "outputs": [
        {
          "output_type": "stream",
          "name": "stdout",
          "text": [
            "     Batsman  Total Runs\n",
            "631  V Kohli        8014\n"
          ]
        }
      ]
    },
    {
      "cell_type": "code",
      "source": [
        "# Count wickets for each bowler by checking 'is_wicket' column\n",
        "bowler_wickets = deliveries_data[deliveries_data['is_wicket'] == 1].groupby('bowler').size().reset_index(name='wickets')"
      ],
      "metadata": {
        "id": "mN7nk3zkQGiU"
      },
      "execution_count": null,
      "outputs": []
    },
    {
      "cell_type": "code",
      "source": [
        "wickets_stats = {\n",
        "    'Mean': wickets_per_player.mean(),\n",
        "    'Median': wickets_per_player.median(),\n",
        "    'Mode': wickets_per_player.mode()[0] if not wickets_per_player.mode().empty else 0\n",
        "}\n",
        "print(\"Wickets Statistics:\", wickets_stats)"
      ],
      "metadata": {
        "colab": {
          "base_uri": "https://localhost:8080/"
        },
        "id": "lzE-gp0vJOMM",
        "outputId": "46349bb3-322e-47f3-f72c-35ddd461ed60"
      },
      "execution_count": null,
      "outputs": [
        {
          "output_type": "stream",
          "name": "stdout",
          "text": [
            "Wickets Statistics: {'Mean': 28.46153846153846, 'Median': 11.0, 'Mode': 1}\n"
          ]
        }
      ]
    },
    {
      "cell_type": "code",
      "source": [
        "top_wicket_taker = bowler_wickets.sort_values(by=\"wickets\", ascending=False).head(1)\n",
        "print(top_wicket_taker)"
      ],
      "metadata": {
        "colab": {
          "base_uri": "https://localhost:8080/"
        },
        "id": "7wuAklAWJTiP",
        "outputId": "72092c1d-b5ce-4c19-904f-09f4f628df90"
      },
      "execution_count": null,
      "outputs": [
        {
          "output_type": "stream",
          "name": "stdout",
          "text": [
            "        bowler  wickets\n",
            "449  YS Chahal      213\n"
          ]
        }
      ]
    },
    {
      "cell_type": "code",
      "source": [
        "batting_data = pd.DataFrame({\n",
        "    \"Player\": [\"Player A\", \"Player B\", \"Player C\"],\n",
        "    \"Average\": [55.0, 45.0, 40.0],\n",
        "    \"Strike Rate\": [140.0, 130.0, 120.0],\n",
        "    \"100s\": [4, 5, 4],\n",
        "    \"50s\": [6, 0, 5],\n",
        "})"
      ],
      "metadata": {
        "id": "8wW6QhscJYAB"
      },
      "execution_count": null,
      "outputs": []
    },
    {
      "cell_type": "code",
      "source": [
        "# Create a copy for normalized data\n",
        "normalized_data = batting_data.copy()"
      ],
      "metadata": {
        "id": "tY00isJxJ3VO"
      },
      "execution_count": null,
      "outputs": []
    },
    {
      "cell_type": "code",
      "source": [
        "# Normalize each column\n",
        "for metric in [\"Average\", \"Strike Rate\", \"100s\", \"50s\"]:\n",
        "    normalized_data[f\"Normalized {metric}\"] = (\n",
        "        batting_data[metric] / batting_data[metric].max()\n",
        "    ) * 100"
      ],
      "metadata": {
        "id": "1ZgQDsIuJ8jf"
      },
      "execution_count": null,
      "outputs": []
    },
    {
      "cell_type": "code",
      "source": [
        "# Display the normalized columns\n",
        "print(normalized_data[[\"Player\", \"Normalized Average\", \"Normalized Strike Rate\", \"Normalized 100s\", \"Normalized 50s\"]])\n"
      ],
      "metadata": {
        "colab": {
          "base_uri": "https://localhost:8080/"
        },
        "id": "6JfRJQFNKBNs",
        "outputId": "c1f0deca-5d3c-4426-8a3f-0799ff952506"
      },
      "execution_count": null,
      "outputs": [
        {
          "output_type": "stream",
          "name": "stdout",
          "text": [
            "     Player  Normalized Average  Normalized Strike Rate  Normalized 100s  \\\n",
            "0  Player A          100.000000              100.000000             80.0   \n",
            "1  Player B           81.818182               92.857143            100.0   \n",
            "2  Player C           72.727273               85.714286             80.0   \n",
            "\n",
            "   Normalized 50s  \n",
            "0      100.000000  \n",
            "1        0.000000  \n",
            "2       83.333333  \n"
          ]
        }
      ]
    },
    {
      "cell_type": "code",
      "source": [
        "matches_data.head(), matches_data.columns"
      ],
      "metadata": {
        "colab": {
          "base_uri": "https://localhost:8080/"
        },
        "id": "TP1auU_iKE40",
        "outputId": "25968c1d-a9d9-4ee9-8b13-971f1cf415f3"
      },
      "execution_count": null,
      "outputs": [
        {
          "output_type": "execute_result",
          "data": {
            "text/plain": [
              "(       id   season        city        date match_type player_of_match  \\\n",
              " 0  335982  2007/08   Bangalore  2008-04-18     League     BB McCullum   \n",
              " 1  335983  2007/08  Chandigarh  2008-04-19     League      MEK Hussey   \n",
              " 2  335984  2007/08       Delhi  2008-04-19     League     MF Maharoof   \n",
              " 3  335985  2007/08      Mumbai  2008-04-20     League      MV Boucher   \n",
              " 4  335986  2007/08     Kolkata  2008-04-20     League       DJ Hussey   \n",
              " \n",
              "                                         venue                        team1  \\\n",
              " 0                       M Chinnaswamy Stadium  Royal Challengers Bangalore   \n",
              " 1  Punjab Cricket Association Stadium, Mohali              Kings XI Punjab   \n",
              " 2                            Feroz Shah Kotla             Delhi Daredevils   \n",
              " 3                            Wankhede Stadium               Mumbai Indians   \n",
              " 4                                Eden Gardens        Kolkata Knight Riders   \n",
              " \n",
              "                          team2                  toss_winner toss_decision  \\\n",
              " 0        Kolkata Knight Riders  Royal Challengers Bangalore         field   \n",
              " 1          Chennai Super Kings          Chennai Super Kings           bat   \n",
              " 2             Rajasthan Royals             Rajasthan Royals           bat   \n",
              " 3  Royal Challengers Bangalore               Mumbai Indians           bat   \n",
              " 4              Deccan Chargers              Deccan Chargers           bat   \n",
              " \n",
              "                         winner   result  result_margin  target_runs  \\\n",
              " 0        Kolkata Knight Riders     runs          140.0        223.0   \n",
              " 1          Chennai Super Kings     runs           33.0        241.0   \n",
              " 2             Delhi Daredevils  wickets            9.0        130.0   \n",
              " 3  Royal Challengers Bangalore  wickets            5.0        166.0   \n",
              " 4        Kolkata Knight Riders  wickets            5.0        111.0   \n",
              " \n",
              "    target_overs super_over method    umpire1         umpire2  \n",
              " 0          20.0          N    NaN  Asad Rauf     RE Koertzen  \n",
              " 1          20.0          N    NaN  MR Benson      SL Shastri  \n",
              " 2          20.0          N    NaN  Aleem Dar  GA Pratapkumar  \n",
              " 3          20.0          N    NaN   SJ Davis       DJ Harper  \n",
              " 4          20.0          N    NaN  BF Bowden     K Hariharan  ,\n",
              " Index(['id', 'season', 'city', 'date', 'match_type', 'player_of_match',\n",
              "        'venue', 'team1', 'team2', 'toss_winner', 'toss_decision', 'winner',\n",
              "        'result', 'result_margin', 'target_runs', 'target_overs', 'super_over',\n",
              "        'method', 'umpire1', 'umpire2'],\n",
              "       dtype='object'))"
            ]
          },
          "metadata": {},
          "execution_count": 50
        }
      ]
    },
    {
      "cell_type": "code",
      "source": [
        "deliveries_data.head(), deliveries_data.columns"
      ],
      "metadata": {
        "colab": {
          "base_uri": "https://localhost:8080/"
        },
        "id": "YxAilep1LeR0",
        "outputId": "dfad33e6-d4c2-4b1f-e7f0-2def5c250fb1"
      },
      "execution_count": null,
      "outputs": [
        {
          "output_type": "execute_result",
          "data": {
            "text/plain": [
              "(   match_id  inning           batting_team                 bowling_team  over  \\\n",
              " 0    335982       1  Kolkata Knight Riders  Royal Challengers Bangalore     0   \n",
              " 1    335982       1  Kolkata Knight Riders  Royal Challengers Bangalore     0   \n",
              " 2    335982       1  Kolkata Knight Riders  Royal Challengers Bangalore     0   \n",
              " 3    335982       1  Kolkata Knight Riders  Royal Challengers Bangalore     0   \n",
              " 4    335982       1  Kolkata Knight Riders  Royal Challengers Bangalore     0   \n",
              " \n",
              "    ball       batter   bowler  non_striker  batsman_runs  extra_runs  \\\n",
              " 0     1   SC Ganguly  P Kumar  BB McCullum             0           1   \n",
              " 1     2  BB McCullum  P Kumar   SC Ganguly             0           0   \n",
              " 2     3  BB McCullum  P Kumar   SC Ganguly             0           1   \n",
              " 3     4  BB McCullum  P Kumar   SC Ganguly             0           0   \n",
              " 4     5  BB McCullum  P Kumar   SC Ganguly             0           0   \n",
              " \n",
              "    total_runs extras_type  is_wicket player_dismissed dismissal_kind fielder  \n",
              " 0           1     legbyes          0              NaN            NaN     NaN  \n",
              " 1           0         NaN          0              NaN            NaN     NaN  \n",
              " 2           1       wides          0              NaN            NaN     NaN  \n",
              " 3           0         NaN          0              NaN            NaN     NaN  \n",
              " 4           0         NaN          0              NaN            NaN     NaN  ,\n",
              " Index(['match_id', 'inning', 'batting_team', 'bowling_team', 'over', 'ball',\n",
              "        'batter', 'bowler', 'non_striker', 'batsman_runs', 'extra_runs',\n",
              "        'total_runs', 'extras_type', 'is_wicket', 'player_dismissed',\n",
              "        'dismissal_kind', 'fielder'],\n",
              "       dtype='object'))"
            ]
          },
          "metadata": {},
          "execution_count": 51
        }
      ]
    }
  ]
}