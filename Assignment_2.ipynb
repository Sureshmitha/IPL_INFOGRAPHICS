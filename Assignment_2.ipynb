{
  "nbformat": 4,
  "nbformat_minor": 0,
  "metadata": {
    "colab": {
      "provenance": []
    },
    "kernelspec": {
      "name": "python3",
      "display_name": "Python 3"
    },
    "language_info": {
      "name": "python"
    }
  },
  "cells": [
    {
      "cell_type": "code",
      "execution_count": null,
      "metadata": {
        "id": "pqyebtZ3H8Dx"
      },
      "outputs": [],
      "source": [
        "import pandas as pd"
      ]
    },
    {
      "cell_type": "code",
      "source": [
        "deliveries_data = pd.read_csv(\"/content/deliveries.csv\")\n",
        "matches_data = pd.read_csv(\"/content/matches.csv\")"
      ],
      "metadata": {
        "id": "oDj_ZRoZIzFt"
      },
      "execution_count": null,
      "outputs": []
    },
    {
      "cell_type": "code",
      "source": [
        "print(deliveries_data.columns)"
      ],
      "metadata": {
        "colab": {
          "base_uri": "https://localhost:8080/"
        },
        "id": "ASGySqA0PqTL",
        "outputId": "5086f525-2dc7-418b-effb-d6624f7e5d75"
      },
      "execution_count": null,
      "outputs": [
        {
          "output_type": "stream",
          "name": "stdout",
          "text": [
            "Index(['match_id', 'inning', 'batting_team', 'bowling_team', 'over', 'ball',\n",
            "       'batter', 'bowler', 'non_striker', 'batsman_runs', 'extra_runs',\n",
            "       'total_runs', 'extras_type', 'is_wicket', 'player_dismissed',\n",
            "       'dismissal_kind', 'fielder'],\n",
            "      dtype='object')\n"
          ]
        }
      ]
    },
    {
      "cell_type": "code",
      "source": [
        "# Group by batsman and calculate total runs\n",
        "batsman_total_runs = deliveries_data.groupby(\"batter\")[\"batsman_runs\"].sum().reset_index()\n"
      ],
      "metadata": {
        "id": "C7ZEJ_LoPJb2"
      },
      "execution_count": null,
      "outputs": []
    },
    {
      "cell_type": "code",
      "source": [
        "# Rename columns for better readability\n",
        "batsman_total_runs.columns = [\"Batsman\", \"Total Runs\"]"
      ],
      "metadata": {
        "id": "TEh2VN7cP64_"
      },
      "execution_count": null,
      "outputs": []
    },
    {
      "cell_type": "code",
      "source": [
        "# Find the batsman with the highest runs\n",
        "highest_scorer = batsman_total_runs.sort_values(by=\"Total Runs\", ascending=False).head(1)\n",
        "print(highest_scorer)"
      ],
      "metadata": {
        "colab": {
          "base_uri": "https://localhost:8080/"
        },
        "id": "6DdYFuW9P_Qy",
        "outputId": "ddc07044-0c02-4d18-e9c5-ba4123a7d20d"
      },
      "execution_count": null,
      "outputs": [
        {
          "output_type": "stream",
          "name": "stdout",
          "text": [
            "     Batsman  Total Runs\n",
            "631  V Kohli        8014\n"
          ]
        }
      ]
    },
    {
      "cell_type": "code",
      "source": [
        "# Find the batsman with the highest runs\n",
        "highest_scorer = batsman_total_runs.sort_values(by=\"Total Runs\", ascending=True).head(1)\n",
        "print(highest_scorer)"
      ],
      "metadata": {
        "colab": {
          "base_uri": "https://localhost:8080/"
        },
        "id": "mN7nk3zkQGiU",
        "outputId": "08bc5b5f-36c8-4d92-b623-2746d5704d16"
      },
      "execution_count": null,
      "outputs": [
        {
          "output_type": "stream",
          "name": "stdout",
          "text": [
            "       Batsman  Total Runs\n",
            "225  IC Pandey           0\n"
          ]
        }
      ]
    },
    {
      "cell_type": "code",
      "source": [
        "runs_stats = {\n",
        "    'Mean': deliveries_data['batsman_runs'].mean(),\n",
        "    'Median': deliveries_data['batsman_runs'].median(),\n",
        "    'Mode': deliveries_data['batsman_runs'].mode()[0]\n",
        "}\n",
        "print(\"Runs Statistics:\", runs_stats)\n"
      ],
      "metadata": {
        "colab": {
          "base_uri": "https://localhost:8080/"
        },
        "id": "YwDQf2M-JJnX",
        "outputId": "ad663f6b-a3d7-40ea-aa3f-6d872a303e66"
      },
      "execution_count": null,
      "outputs": [
        {
          "output_type": "stream",
          "name": "stdout",
          "text": [
            "Runs Statistics: {'Mean': 1.265000766518473, 'Median': 1.0, 'Mode': 0}\n"
          ]
        }
      ]
    },
    {
      "cell_type": "code",
      "source": [
        "wickets_data = deliveries_data[deliveries_data['is_wicket'] == 1]\n",
        "wickets_per_player = wickets_data.groupby('bowler').size()"
      ],
      "metadata": {
        "id": "lzE-gp0vJOMM"
      },
      "execution_count": null,
      "outputs": []
    },
    {
      "cell_type": "code",
      "source": [
        "wickets_stats = {\n",
        "    'Mean': wickets_per_player.mean(),\n",
        "    'Median': wickets_per_player.median(),\n",
        "    'Mode': wickets_per_player.mode()[0] if not wickets_per_player.mode().empty else 0\n",
        "}\n",
        "print(\"Wickets Statistics:\", wickets_stats)"
      ],
      "metadata": {
        "colab": {
          "base_uri": "https://localhost:8080/"
        },
        "id": "7wuAklAWJTiP",
        "outputId": "019be3f9-ca4f-4d18-f263-3466ee58f6bd"
      },
      "execution_count": null,
      "outputs": [
        {
          "output_type": "stream",
          "name": "stdout",
          "text": [
            "Wickets Statistics: {'Mean': 28.46153846153846, 'Median': 11.0, 'Mode': 1}\n"
          ]
        }
      ]
    },
    {
      "cell_type": "code",
      "source": [
        "batting_data = pd.DataFrame({\n",
        "    \"Player\": [\"Player A\", \"Player B\", \"Player C\"],\n",
        "    \"Average\": [55.0, 45.0, 40.0],\n",
        "    \"Strike Rate\": [140.0, 130.0, 120.0],\n",
        "    \"100s\": [4, 5, 4],\n",
        "    \"50s\": [6, 0, 5],\n",
        "})"
      ],
      "metadata": {
        "id": "8wW6QhscJYAB"
      },
      "execution_count": null,
      "outputs": []
    },
    {
      "cell_type": "code",
      "source": [
        "# Create a copy for normalized data\n",
        "normalized_data = batting_data.copy()"
      ],
      "metadata": {
        "id": "tY00isJxJ3VO"
      },
      "execution_count": null,
      "outputs": []
    },
    {
      "cell_type": "code",
      "source": [
        "# Normalize each column\n",
        "for metric in [\"Average\", \"Strike Rate\", \"100s\", \"50s\"]:\n",
        "    normalized_data[f\"Normalized {metric}\"] = (\n",
        "        batting_data[metric] / batting_data[metric].max()\n",
        "    ) * 100"
      ],
      "metadata": {
        "id": "1ZgQDsIuJ8jf"
      },
      "execution_count": null,
      "outputs": []
    },
    {
      "cell_type": "code",
      "source": [
        "# Display the normalized columns\n",
        "print(normalized_data[[\"Player\", \"Normalized Average\", \"Normalized Strike Rate\", \"Normalized 100s\", \"Normalized 50s\"]])\n"
      ],
      "metadata": {
        "colab": {
          "base_uri": "https://localhost:8080/"
        },
        "id": "6JfRJQFNKBNs",
        "outputId": "de364798-6aa8-436f-d48e-247febbdf569"
      },
      "execution_count": null,
      "outputs": [
        {
          "output_type": "stream",
          "name": "stdout",
          "text": [
            "     Player  Normalized Average  Normalized Strike Rate  Normalized 100s  \\\n",
            "0  Player A          100.000000              100.000000             80.0   \n",
            "1  Player B           81.818182               92.857143            100.0   \n",
            "2  Player C           72.727273               85.714286             80.0   \n",
            "\n",
            "   Normalized 50s  \n",
            "0      100.000000  \n",
            "1        0.000000  \n",
            "2       83.333333  \n"
          ]
        }
      ]
    },
    {
      "cell_type": "code",
      "source": [
        "matches_data.head(), matches_data.columns"
      ],
      "metadata": {
        "colab": {
          "base_uri": "https://localhost:8080/"
        },
        "id": "TP1auU_iKE40",
        "outputId": "960e20c1-b280-4225-9961-7c180d88f2a5"
      },
      "execution_count": null,
      "outputs": [
        {
          "output_type": "execute_result",
          "data": {
            "text/plain": [
              "(       id   season        city        date match_type player_of_match  \\\n",
              " 0  335982  2007/08   Bangalore  2008-04-18     League     BB McCullum   \n",
              " 1  335983  2007/08  Chandigarh  2008-04-19     League      MEK Hussey   \n",
              " 2  335984  2007/08       Delhi  2008-04-19     League     MF Maharoof   \n",
              " 3  335985  2007/08      Mumbai  2008-04-20     League      MV Boucher   \n",
              " 4  335986  2007/08     Kolkata  2008-04-20     League       DJ Hussey   \n",
              " \n",
              "                                         venue                        team1  \\\n",
              " 0                       M Chinnaswamy Stadium  Royal Challengers Bangalore   \n",
              " 1  Punjab Cricket Association Stadium, Mohali              Kings XI Punjab   \n",
              " 2                            Feroz Shah Kotla             Delhi Daredevils   \n",
              " 3                            Wankhede Stadium               Mumbai Indians   \n",
              " 4                                Eden Gardens        Kolkata Knight Riders   \n",
              " \n",
              "                          team2                  toss_winner toss_decision  \\\n",
              " 0        Kolkata Knight Riders  Royal Challengers Bangalore         field   \n",
              " 1          Chennai Super Kings          Chennai Super Kings           bat   \n",
              " 2             Rajasthan Royals             Rajasthan Royals           bat   \n",
              " 3  Royal Challengers Bangalore               Mumbai Indians           bat   \n",
              " 4              Deccan Chargers              Deccan Chargers           bat   \n",
              " \n",
              "                         winner   result  result_margin  target_runs  \\\n",
              " 0        Kolkata Knight Riders     runs          140.0        223.0   \n",
              " 1          Chennai Super Kings     runs           33.0        241.0   \n",
              " 2             Delhi Daredevils  wickets            9.0        130.0   \n",
              " 3  Royal Challengers Bangalore  wickets            5.0        166.0   \n",
              " 4        Kolkata Knight Riders  wickets            5.0        111.0   \n",
              " \n",
              "    target_overs super_over method    umpire1         umpire2  \n",
              " 0          20.0          N    NaN  Asad Rauf     RE Koertzen  \n",
              " 1          20.0          N    NaN  MR Benson      SL Shastri  \n",
              " 2          20.0          N    NaN  Aleem Dar  GA Pratapkumar  \n",
              " 3          20.0          N    NaN   SJ Davis       DJ Harper  \n",
              " 4          20.0          N    NaN  BF Bowden     K Hariharan  ,\n",
              " Index(['id', 'season', 'city', 'date', 'match_type', 'player_of_match',\n",
              "        'venue', 'team1', 'team2', 'toss_winner', 'toss_decision', 'winner',\n",
              "        'result', 'result_margin', 'target_runs', 'target_overs', 'super_over',\n",
              "        'method', 'umpire1', 'umpire2'],\n",
              "       dtype='object'))"
            ]
          },
          "metadata": {},
          "execution_count": 11
        }
      ]
    },
    {
      "cell_type": "code",
      "source": [
        "deliveries_data.head(), deliveries_data.columns"
      ],
      "metadata": {
        "colab": {
          "base_uri": "https://localhost:8080/"
        },
        "id": "YxAilep1LeR0",
        "outputId": "e4fcbb04-2a9e-4768-b009-2921c1b77277"
      },
      "execution_count": null,
      "outputs": [
        {
          "output_type": "execute_result",
          "data": {
            "text/plain": [
              "(   match_id  inning           batting_team                 bowling_team  over  \\\n",
              " 0    335982       1  Kolkata Knight Riders  Royal Challengers Bangalore     0   \n",
              " 1    335982       1  Kolkata Knight Riders  Royal Challengers Bangalore     0   \n",
              " 2    335982       1  Kolkata Knight Riders  Royal Challengers Bangalore     0   \n",
              " 3    335982       1  Kolkata Knight Riders  Royal Challengers Bangalore     0   \n",
              " 4    335982       1  Kolkata Knight Riders  Royal Challengers Bangalore     0   \n",
              " \n",
              "    ball       batter   bowler  non_striker  batsman_runs  extra_runs  \\\n",
              " 0     1   SC Ganguly  P Kumar  BB McCullum             0           1   \n",
              " 1     2  BB McCullum  P Kumar   SC Ganguly             0           0   \n",
              " 2     3  BB McCullum  P Kumar   SC Ganguly             0           1   \n",
              " 3     4  BB McCullum  P Kumar   SC Ganguly             0           0   \n",
              " 4     5  BB McCullum  P Kumar   SC Ganguly             0           0   \n",
              " \n",
              "    total_runs extras_type  is_wicket player_dismissed dismissal_kind fielder  \n",
              " 0           1     legbyes          0              NaN            NaN     NaN  \n",
              " 1           0         NaN          0              NaN            NaN     NaN  \n",
              " 2           1       wides          0              NaN            NaN     NaN  \n",
              " 3           0         NaN          0              NaN            NaN     NaN  \n",
              " 4           0         NaN          0              NaN            NaN     NaN  ,\n",
              " Index(['match_id', 'inning', 'batting_team', 'bowling_team', 'over', 'ball',\n",
              "        'batter', 'bowler', 'non_striker', 'batsman_runs', 'extra_runs',\n",
              "        'total_runs', 'extras_type', 'is_wicket', 'player_dismissed',\n",
              "        'dismissal_kind', 'fielder'],\n",
              "       dtype='object'))"
            ]
          },
          "metadata": {},
          "execution_count": 12
        }
      ]
    },
    {
      "cell_type": "code",
      "source": [
        "# Grouping by city and counting the number of matches played in each city\n",
        "city_match_counts = matches_data['city'].value_counts().head(20)"
      ],
      "metadata": {
        "id": "UEaRPFdSLumz"
      },
      "execution_count": null,
      "outputs": []
    },
    {
      "cell_type": "code",
      "source": [
        "# Converting the city match counts to a DataFrame with renamed columns\n",
        "top_cities = pd.DataFrame({\n",
        "    'City': city_match_counts.index,\n",
        "    'Matches Played': city_match_counts.values\n",
        "})\n",
        "top_cities"
      ],
      "metadata": {
        "colab": {
          "base_uri": "https://localhost:8080/",
          "height": 676
        },
        "id": "GpP7-KDML9ee",
        "outputId": "64d66dce-5a6e-481d-df7f-7df8d1dcedc8"
      },
      "execution_count": null,
      "outputs": [
        {
          "output_type": "execute_result",
          "data": {
            "text/plain": [
              "             City  Matches Played\n",
              "0          Mumbai             173\n",
              "1         Kolkata              93\n",
              "2           Delhi              90\n",
              "3         Chennai              85\n",
              "4       Hyderabad              77\n",
              "5       Bangalore              65\n",
              "6      Chandigarh              61\n",
              "7          Jaipur              57\n",
              "8            Pune              51\n",
              "9       Abu Dhabi              37\n",
              "10      Ahmedabad              36\n",
              "11      Bengaluru              29\n",
              "12         Durban              15\n",
              "13  Visakhapatnam              15\n",
              "14        Lucknow              14\n",
              "15          Dubai              13\n",
              "16     Dharamsala              13\n",
              "17      Centurion              12\n",
              "18         Rajkot              10\n",
              "19        Sharjah              10"
            ],
            "text/html": [
              "\n",
              "  <div id=\"df-69f5417e-4a6d-4d3f-95ab-c876ce8a86e8\" class=\"colab-df-container\">\n",
              "    <div>\n",
              "<style scoped>\n",
              "    .dataframe tbody tr th:only-of-type {\n",
              "        vertical-align: middle;\n",
              "    }\n",
              "\n",
              "    .dataframe tbody tr th {\n",
              "        vertical-align: top;\n",
              "    }\n",
              "\n",
              "    .dataframe thead th {\n",
              "        text-align: right;\n",
              "    }\n",
              "</style>\n",
              "<table border=\"1\" class=\"dataframe\">\n",
              "  <thead>\n",
              "    <tr style=\"text-align: right;\">\n",
              "      <th></th>\n",
              "      <th>City</th>\n",
              "      <th>Matches Played</th>\n",
              "    </tr>\n",
              "  </thead>\n",
              "  <tbody>\n",
              "    <tr>\n",
              "      <th>0</th>\n",
              "      <td>Mumbai</td>\n",
              "      <td>173</td>\n",
              "    </tr>\n",
              "    <tr>\n",
              "      <th>1</th>\n",
              "      <td>Kolkata</td>\n",
              "      <td>93</td>\n",
              "    </tr>\n",
              "    <tr>\n",
              "      <th>2</th>\n",
              "      <td>Delhi</td>\n",
              "      <td>90</td>\n",
              "    </tr>\n",
              "    <tr>\n",
              "      <th>3</th>\n",
              "      <td>Chennai</td>\n",
              "      <td>85</td>\n",
              "    </tr>\n",
              "    <tr>\n",
              "      <th>4</th>\n",
              "      <td>Hyderabad</td>\n",
              "      <td>77</td>\n",
              "    </tr>\n",
              "    <tr>\n",
              "      <th>5</th>\n",
              "      <td>Bangalore</td>\n",
              "      <td>65</td>\n",
              "    </tr>\n",
              "    <tr>\n",
              "      <th>6</th>\n",
              "      <td>Chandigarh</td>\n",
              "      <td>61</td>\n",
              "    </tr>\n",
              "    <tr>\n",
              "      <th>7</th>\n",
              "      <td>Jaipur</td>\n",
              "      <td>57</td>\n",
              "    </tr>\n",
              "    <tr>\n",
              "      <th>8</th>\n",
              "      <td>Pune</td>\n",
              "      <td>51</td>\n",
              "    </tr>\n",
              "    <tr>\n",
              "      <th>9</th>\n",
              "      <td>Abu Dhabi</td>\n",
              "      <td>37</td>\n",
              "    </tr>\n",
              "    <tr>\n",
              "      <th>10</th>\n",
              "      <td>Ahmedabad</td>\n",
              "      <td>36</td>\n",
              "    </tr>\n",
              "    <tr>\n",
              "      <th>11</th>\n",
              "      <td>Bengaluru</td>\n",
              "      <td>29</td>\n",
              "    </tr>\n",
              "    <tr>\n",
              "      <th>12</th>\n",
              "      <td>Durban</td>\n",
              "      <td>15</td>\n",
              "    </tr>\n",
              "    <tr>\n",
              "      <th>13</th>\n",
              "      <td>Visakhapatnam</td>\n",
              "      <td>15</td>\n",
              "    </tr>\n",
              "    <tr>\n",
              "      <th>14</th>\n",
              "      <td>Lucknow</td>\n",
              "      <td>14</td>\n",
              "    </tr>\n",
              "    <tr>\n",
              "      <th>15</th>\n",
              "      <td>Dubai</td>\n",
              "      <td>13</td>\n",
              "    </tr>\n",
              "    <tr>\n",
              "      <th>16</th>\n",
              "      <td>Dharamsala</td>\n",
              "      <td>13</td>\n",
              "    </tr>\n",
              "    <tr>\n",
              "      <th>17</th>\n",
              "      <td>Centurion</td>\n",
              "      <td>12</td>\n",
              "    </tr>\n",
              "    <tr>\n",
              "      <th>18</th>\n",
              "      <td>Rajkot</td>\n",
              "      <td>10</td>\n",
              "    </tr>\n",
              "    <tr>\n",
              "      <th>19</th>\n",
              "      <td>Sharjah</td>\n",
              "      <td>10</td>\n",
              "    </tr>\n",
              "  </tbody>\n",
              "</table>\n",
              "</div>\n",
              "    <div class=\"colab-df-buttons\">\n",
              "\n",
              "  <div class=\"colab-df-container\">\n",
              "    <button class=\"colab-df-convert\" onclick=\"convertToInteractive('df-69f5417e-4a6d-4d3f-95ab-c876ce8a86e8')\"\n",
              "            title=\"Convert this dataframe to an interactive table.\"\n",
              "            style=\"display:none;\">\n",
              "\n",
              "  <svg xmlns=\"http://www.w3.org/2000/svg\" height=\"24px\" viewBox=\"0 -960 960 960\">\n",
              "    <path d=\"M120-120v-720h720v720H120Zm60-500h600v-160H180v160Zm220 220h160v-160H400v160Zm0 220h160v-160H400v160ZM180-400h160v-160H180v160Zm440 0h160v-160H620v160ZM180-180h160v-160H180v160Zm440 0h160v-160H620v160Z\"/>\n",
              "  </svg>\n",
              "    </button>\n",
              "\n",
              "  <style>\n",
              "    .colab-df-container {\n",
              "      display:flex;\n",
              "      gap: 12px;\n",
              "    }\n",
              "\n",
              "    .colab-df-convert {\n",
              "      background-color: #E8F0FE;\n",
              "      border: none;\n",
              "      border-radius: 50%;\n",
              "      cursor: pointer;\n",
              "      display: none;\n",
              "      fill: #1967D2;\n",
              "      height: 32px;\n",
              "      padding: 0 0 0 0;\n",
              "      width: 32px;\n",
              "    }\n",
              "\n",
              "    .colab-df-convert:hover {\n",
              "      background-color: #E2EBFA;\n",
              "      box-shadow: 0px 1px 2px rgba(60, 64, 67, 0.3), 0px 1px 3px 1px rgba(60, 64, 67, 0.15);\n",
              "      fill: #174EA6;\n",
              "    }\n",
              "\n",
              "    .colab-df-buttons div {\n",
              "      margin-bottom: 4px;\n",
              "    }\n",
              "\n",
              "    [theme=dark] .colab-df-convert {\n",
              "      background-color: #3B4455;\n",
              "      fill: #D2E3FC;\n",
              "    }\n",
              "\n",
              "    [theme=dark] .colab-df-convert:hover {\n",
              "      background-color: #434B5C;\n",
              "      box-shadow: 0px 1px 3px 1px rgba(0, 0, 0, 0.15);\n",
              "      filter: drop-shadow(0px 1px 2px rgba(0, 0, 0, 0.3));\n",
              "      fill: #FFFFFF;\n",
              "    }\n",
              "  </style>\n",
              "\n",
              "    <script>\n",
              "      const buttonEl =\n",
              "        document.querySelector('#df-69f5417e-4a6d-4d3f-95ab-c876ce8a86e8 button.colab-df-convert');\n",
              "      buttonEl.style.display =\n",
              "        google.colab.kernel.accessAllowed ? 'block' : 'none';\n",
              "\n",
              "      async function convertToInteractive(key) {\n",
              "        const element = document.querySelector('#df-69f5417e-4a6d-4d3f-95ab-c876ce8a86e8');\n",
              "        const dataTable =\n",
              "          await google.colab.kernel.invokeFunction('convertToInteractive',\n",
              "                                                    [key], {});\n",
              "        if (!dataTable) return;\n",
              "\n",
              "        const docLinkHtml = 'Like what you see? Visit the ' +\n",
              "          '<a target=\"_blank\" href=https://colab.research.google.com/notebooks/data_table.ipynb>data table notebook</a>'\n",
              "          + ' to learn more about interactive tables.';\n",
              "        element.innerHTML = '';\n",
              "        dataTable['output_type'] = 'display_data';\n",
              "        await google.colab.output.renderOutput(dataTable, element);\n",
              "        const docLink = document.createElement('div');\n",
              "        docLink.innerHTML = docLinkHtml;\n",
              "        element.appendChild(docLink);\n",
              "      }\n",
              "    </script>\n",
              "  </div>\n",
              "\n",
              "\n",
              "<div id=\"df-5d3cbac1-19cc-4c5f-9f44-abc06375b25a\">\n",
              "  <button class=\"colab-df-quickchart\" onclick=\"quickchart('df-5d3cbac1-19cc-4c5f-9f44-abc06375b25a')\"\n",
              "            title=\"Suggest charts\"\n",
              "            style=\"display:none;\">\n",
              "\n",
              "<svg xmlns=\"http://www.w3.org/2000/svg\" height=\"24px\"viewBox=\"0 0 24 24\"\n",
              "     width=\"24px\">\n",
              "    <g>\n",
              "        <path d=\"M19 3H5c-1.1 0-2 .9-2 2v14c0 1.1.9 2 2 2h14c1.1 0 2-.9 2-2V5c0-1.1-.9-2-2-2zM9 17H7v-7h2v7zm4 0h-2V7h2v10zm4 0h-2v-4h2v4z\"/>\n",
              "    </g>\n",
              "</svg>\n",
              "  </button>\n",
              "\n",
              "<style>\n",
              "  .colab-df-quickchart {\n",
              "      --bg-color: #E8F0FE;\n",
              "      --fill-color: #1967D2;\n",
              "      --hover-bg-color: #E2EBFA;\n",
              "      --hover-fill-color: #174EA6;\n",
              "      --disabled-fill-color: #AAA;\n",
              "      --disabled-bg-color: #DDD;\n",
              "  }\n",
              "\n",
              "  [theme=dark] .colab-df-quickchart {\n",
              "      --bg-color: #3B4455;\n",
              "      --fill-color: #D2E3FC;\n",
              "      --hover-bg-color: #434B5C;\n",
              "      --hover-fill-color: #FFFFFF;\n",
              "      --disabled-bg-color: #3B4455;\n",
              "      --disabled-fill-color: #666;\n",
              "  }\n",
              "\n",
              "  .colab-df-quickchart {\n",
              "    background-color: var(--bg-color);\n",
              "    border: none;\n",
              "    border-radius: 50%;\n",
              "    cursor: pointer;\n",
              "    display: none;\n",
              "    fill: var(--fill-color);\n",
              "    height: 32px;\n",
              "    padding: 0;\n",
              "    width: 32px;\n",
              "  }\n",
              "\n",
              "  .colab-df-quickchart:hover {\n",
              "    background-color: var(--hover-bg-color);\n",
              "    box-shadow: 0 1px 2px rgba(60, 64, 67, 0.3), 0 1px 3px 1px rgba(60, 64, 67, 0.15);\n",
              "    fill: var(--button-hover-fill-color);\n",
              "  }\n",
              "\n",
              "  .colab-df-quickchart-complete:disabled,\n",
              "  .colab-df-quickchart-complete:disabled:hover {\n",
              "    background-color: var(--disabled-bg-color);\n",
              "    fill: var(--disabled-fill-color);\n",
              "    box-shadow: none;\n",
              "  }\n",
              "\n",
              "  .colab-df-spinner {\n",
              "    border: 2px solid var(--fill-color);\n",
              "    border-color: transparent;\n",
              "    border-bottom-color: var(--fill-color);\n",
              "    animation:\n",
              "      spin 1s steps(1) infinite;\n",
              "  }\n",
              "\n",
              "  @keyframes spin {\n",
              "    0% {\n",
              "      border-color: transparent;\n",
              "      border-bottom-color: var(--fill-color);\n",
              "      border-left-color: var(--fill-color);\n",
              "    }\n",
              "    20% {\n",
              "      border-color: transparent;\n",
              "      border-left-color: var(--fill-color);\n",
              "      border-top-color: var(--fill-color);\n",
              "    }\n",
              "    30% {\n",
              "      border-color: transparent;\n",
              "      border-left-color: var(--fill-color);\n",
              "      border-top-color: var(--fill-color);\n",
              "      border-right-color: var(--fill-color);\n",
              "    }\n",
              "    40% {\n",
              "      border-color: transparent;\n",
              "      border-right-color: var(--fill-color);\n",
              "      border-top-color: var(--fill-color);\n",
              "    }\n",
              "    60% {\n",
              "      border-color: transparent;\n",
              "      border-right-color: var(--fill-color);\n",
              "    }\n",
              "    80% {\n",
              "      border-color: transparent;\n",
              "      border-right-color: var(--fill-color);\n",
              "      border-bottom-color: var(--fill-color);\n",
              "    }\n",
              "    90% {\n",
              "      border-color: transparent;\n",
              "      border-bottom-color: var(--fill-color);\n",
              "    }\n",
              "  }\n",
              "</style>\n",
              "\n",
              "  <script>\n",
              "    async function quickchart(key) {\n",
              "      const quickchartButtonEl =\n",
              "        document.querySelector('#' + key + ' button');\n",
              "      quickchartButtonEl.disabled = true;  // To prevent multiple clicks.\n",
              "      quickchartButtonEl.classList.add('colab-df-spinner');\n",
              "      try {\n",
              "        const charts = await google.colab.kernel.invokeFunction(\n",
              "            'suggestCharts', [key], {});\n",
              "      } catch (error) {\n",
              "        console.error('Error during call to suggestCharts:', error);\n",
              "      }\n",
              "      quickchartButtonEl.classList.remove('colab-df-spinner');\n",
              "      quickchartButtonEl.classList.add('colab-df-quickchart-complete');\n",
              "    }\n",
              "    (() => {\n",
              "      let quickchartButtonEl =\n",
              "        document.querySelector('#df-5d3cbac1-19cc-4c5f-9f44-abc06375b25a button');\n",
              "      quickchartButtonEl.style.display =\n",
              "        google.colab.kernel.accessAllowed ? 'block' : 'none';\n",
              "    })();\n",
              "  </script>\n",
              "</div>\n",
              "\n",
              "  <div id=\"id_73b020b2-573d-467e-a8a7-425b0ed84e51\">\n",
              "    <style>\n",
              "      .colab-df-generate {\n",
              "        background-color: #E8F0FE;\n",
              "        border: none;\n",
              "        border-radius: 50%;\n",
              "        cursor: pointer;\n",
              "        display: none;\n",
              "        fill: #1967D2;\n",
              "        height: 32px;\n",
              "        padding: 0 0 0 0;\n",
              "        width: 32px;\n",
              "      }\n",
              "\n",
              "      .colab-df-generate:hover {\n",
              "        background-color: #E2EBFA;\n",
              "        box-shadow: 0px 1px 2px rgba(60, 64, 67, 0.3), 0px 1px 3px 1px rgba(60, 64, 67, 0.15);\n",
              "        fill: #174EA6;\n",
              "      }\n",
              "\n",
              "      [theme=dark] .colab-df-generate {\n",
              "        background-color: #3B4455;\n",
              "        fill: #D2E3FC;\n",
              "      }\n",
              "\n",
              "      [theme=dark] .colab-df-generate:hover {\n",
              "        background-color: #434B5C;\n",
              "        box-shadow: 0px 1px 3px 1px rgba(0, 0, 0, 0.15);\n",
              "        filter: drop-shadow(0px 1px 2px rgba(0, 0, 0, 0.3));\n",
              "        fill: #FFFFFF;\n",
              "      }\n",
              "    </style>\n",
              "    <button class=\"colab-df-generate\" onclick=\"generateWithVariable('top_cities')\"\n",
              "            title=\"Generate code using this dataframe.\"\n",
              "            style=\"display:none;\">\n",
              "\n",
              "  <svg xmlns=\"http://www.w3.org/2000/svg\" height=\"24px\"viewBox=\"0 0 24 24\"\n",
              "       width=\"24px\">\n",
              "    <path d=\"M7,19H8.4L18.45,9,17,7.55,7,17.6ZM5,21V16.75L18.45,3.32a2,2,0,0,1,2.83,0l1.4,1.43a1.91,1.91,0,0,1,.58,1.4,1.91,1.91,0,0,1-.58,1.4L9.25,21ZM18.45,9,17,7.55Zm-12,3A5.31,5.31,0,0,0,4.9,8.1,5.31,5.31,0,0,0,1,6.5,5.31,5.31,0,0,0,4.9,4.9,5.31,5.31,0,0,0,6.5,1,5.31,5.31,0,0,0,8.1,4.9,5.31,5.31,0,0,0,12,6.5,5.46,5.46,0,0,0,6.5,12Z\"/>\n",
              "  </svg>\n",
              "    </button>\n",
              "    <script>\n",
              "      (() => {\n",
              "      const buttonEl =\n",
              "        document.querySelector('#id_73b020b2-573d-467e-a8a7-425b0ed84e51 button.colab-df-generate');\n",
              "      buttonEl.style.display =\n",
              "        google.colab.kernel.accessAllowed ? 'block' : 'none';\n",
              "\n",
              "      buttonEl.onclick = () => {\n",
              "        google.colab.notebook.generateWithVariable('top_cities');\n",
              "      }\n",
              "      })();\n",
              "    </script>\n",
              "  </div>\n",
              "\n",
              "    </div>\n",
              "  </div>\n"
            ],
            "application/vnd.google.colaboratory.intrinsic+json": {
              "type": "dataframe",
              "variable_name": "top_cities",
              "summary": "{\n  \"name\": \"top_cities\",\n  \"rows\": 20,\n  \"fields\": [\n    {\n      \"column\": \"City\",\n      \"properties\": {\n        \"dtype\": \"string\",\n        \"num_unique_values\": 20,\n        \"samples\": [\n          \"Mumbai\",\n          \"Centurion\",\n          \"Dubai\"\n        ],\n        \"semantic_type\": \"\",\n        \"description\": \"\"\n      }\n    },\n    {\n      \"column\": \"Matches Played\",\n      \"properties\": {\n        \"dtype\": \"number\",\n        \"std\": 41,\n        \"min\": 10,\n        \"max\": 173,\n        \"num_unique_values\": 17,\n        \"samples\": [\n          173,\n          93,\n          65\n        ],\n        \"semantic_type\": \"\",\n        \"description\": \"\"\n      }\n    }\n  ]\n}"
            }
          },
          "metadata": {},
          "execution_count": 15
        }
      ]
    }
  ]
}